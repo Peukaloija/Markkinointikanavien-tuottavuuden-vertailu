{
 "cells": [
  {
   "cell_type": "code",
   "execution_count": 3,
   "id": "a82bfd0a",
   "metadata": {},
   "outputs": [],
   "source": [
    "#Tarkastellaan markkinointiin liittyvää datasettiä, jossa on ID, joka kuvaa yksittäistä toteutunutta mainoskampanjaa ja TV,\n",
    "#Radio, Newspaper, jotka kertovat, että kuinka monta tuhatta euroa kuhunkin kanavaan on käytetty. Tämän lisäksi viimeinen\n",
    "#sarake on Sales sarake, joka kertoo kuinka monta tuhatta tuotemyyntiä syntyi markkinointikampanjan myötä. Tutkitaan eri kanavien\n",
    "#ROI, jotta saadaan käsitys miten budjetti pystyttäisiin parhaiten optimoida. "
   ]
  },
  {
   "cell_type": "code",
   "execution_count": 4,
   "id": "f45b560e",
   "metadata": {},
   "outputs": [],
   "source": [
    "import numpy as np\n",
    "import pandas as pd\n",
    "import matplotlib.pyplot as plt"
   ]
  },
  {
   "cell_type": "code",
   "execution_count": 5,
   "id": "93832348",
   "metadata": {},
   "outputs": [],
   "source": [
    "df = pd.read_csv('markkinointidata.csv') #Luetaan tiedosto"
   ]
  },
  {
   "cell_type": "code",
   "execution_count": 6,
   "id": "09f9620e",
   "metadata": {
    "scrolled": true
   },
   "outputs": [
    {
     "name": "stdout",
     "output_type": "stream",
     "text": [
      "   ID     TV  Radio  Newspaper  Sales\n",
      "0   1  230.1   37.8       69.2   22.1\n",
      "1   2   44.5   39.3       45.1   10.4\n",
      "2   3   17.2   45.9       69.3    9.3\n",
      "3   4  151.5   41.3       58.5   18.5\n",
      "4   5  180.8   12.8       58.4   12.9\n",
      "5   6    8.7   48.9       75.0    7.2\n",
      "6   7   57.5   32.8       23.5   11.8\n",
      "7   8  120.2   19.6       11.6   13.2\n",
      "8   9    8.6    2.1        1.0    4.8\n",
      "9  10  199.8    2.6       21.2   10.6\n"
     ]
    }
   ],
   "source": [
    "print(df.head(10)) #Katsotaan miltä 10 ensimmäistä riviä näyttävät. Rivejä on yhteensä 200."
   ]
  },
  {
   "cell_type": "code",
   "execution_count": 7,
   "id": "16f4bfaf",
   "metadata": {},
   "outputs": [],
   "source": [
    "#Dataa voi hahmotta niin, että TV, Radio ja Newspaper muodostavat matriisin ja Sales on kohdevektori. Tarkoitus olisi löytää\n",
    "#matriisin muuttujista se, jolla on suurin vaikutus Sales eli minkä muuttujan nousu nostaa eniten Sales."
   ]
  },
  {
   "cell_type": "code",
   "execution_count": 15,
   "id": "deff6050",
   "metadata": {},
   "outputs": [
    {
     "name": "stdout",
     "output_type": "stream",
     "text": [
      "                                 OLS Regression Results                                \n",
      "=======================================================================================\n",
      "Dep. Variable:                  Sales   R-squared (uncentered):                   0.982\n",
      "Model:                            OLS   Adj. R-squared (uncentered):              0.981\n",
      "Method:                 Least Squares   F-statistic:                              3493.\n",
      "Date:                Thu, 08 Aug 2024   Prob (F-statistic):                   1.79e-170\n",
      "Time:                        11:42:21   Log-Likelihood:                         -425.73\n",
      "No. Observations:                 200   AIC:                                      857.5\n",
      "Df Residuals:                     197   BIC:                                      867.4\n",
      "Df Model:                           3                                                  \n",
      "Covariance Type:            nonrobust                                                  \n",
      "==============================================================================\n",
      "                 coef    std err          t      P>|t|      [0.025      0.975]\n",
      "------------------------------------------------------------------------------\n",
      "TV             0.0539      0.001     40.127      0.000       0.051       0.057\n",
      "Radio          0.2214      0.010     23.262      0.000       0.203       0.240\n",
      "Newspaper      0.0170      0.007      2.511      0.013       0.004       0.030\n",
      "==============================================================================\n",
      "Omnibus:                        5.204   Durbin-Watson:                   2.005\n",
      "Prob(Omnibus):                  0.074   Jarque-Bera (JB):                6.194\n",
      "Skew:                          -0.184   Prob(JB):                       0.0452\n",
      "Kurtosis:                       3.780   Cond. No.                         12.6\n",
      "==============================================================================\n",
      "\n",
      "Notes:\n",
      "[1] R² is computed without centering (uncentered) since the model does not contain a constant.\n",
      "[2] Standard Errors assume that the covariance matrix of the errors is correctly specified.\n"
     ]
    }
   ],
   "source": [
    "#Käytetään tähän statsmodel moduulia.\n",
    "import statsmodels.api as sm\n",
    "\n",
    "X = df[['TV','Radio','Newspaper']]\n",
    "Y = df['Sales']\n",
    "\n",
    "malli = sm.OLS(Y, X) #Luodaan lineaarinen malli X ja Y arvoilla\n",
    "tulokset = malli.fit() #Koulutetaan malli\n",
    "print(tulokset.summary()) #Tarkistetaan tulokset"
   ]
  },
  {
   "cell_type": "code",
   "execution_count": null,
   "id": "541abc1f",
   "metadata": {},
   "outputs": [],
   "source": [
    "#Tärkeimmät tiedot tästä löytyy coef-kohdasta, jossa kerrotaan mikä muuttujista vaikuttaa eniten myyntiin. Se muuttuja, jolla\n",
    "#on suurin coef vaikuttaa eniten myyntiin. Nähdään, että Radion coef on suurin, 0.2214, joten tiedetään, että se on merkittävin\n",
    "#muuttuja, Newspaper huonoin ja TV toiseksi paras."
   ]
  },
  {
   "cell_type": "code",
   "execution_count": 17,
   "id": "a407b875",
   "metadata": {},
   "outputs": [],
   "source": [
    "#Tuolla mallilla pystyy tekemään ennustuksia, joten tehdään kolme erilaista 10k€ budjettia ja annetaan mallin ennustaa, että \n",
    "#millä näistä budjeteista on suurin ROI. Tehdään bujetit niin, että ne vastaa coef-painotusta eli Radio eniten jne...\n",
    "budjetit = pd.DataFrame({'TV': [0,1,2], 'Radio': [10, 9, 7], 'Newspaper': [0, 0, 1]})\n",
    "vakiotermi = sm.add_constant(budjetit) "
   ]
  },
  {
   "cell_type": "code",
   "execution_count": 19,
   "id": "55786316",
   "metadata": {
    "scrolled": true
   },
   "outputs": [
    {
     "name": "stdout",
     "output_type": "stream",
     "text": [
      "0    2.214217\n",
      "1    2.046684\n",
      "2    1.674694\n",
      "dtype: float64\n"
     ]
    }
   ],
   "source": [
    "#Tehdään ennusteet. Ensimmäisen budjetti on TV: 0, Radio 10, Newspaper 0. Toisen TV: 1 Radio 9 ja Newspaper 0. Kolmannen TV 2,\n",
    "#Radio 7 ja Newspaper 1.\n",
    "ennusteet = tulokset.predict(budjetit)\n",
    "print(ennusteet) #Ennusteet ovat, että kuinka monta tuhatta € myyntiä saadaan aikaiseksi"
   ]
  },
  {
   "cell_type": "code",
   "execution_count": null,
   "id": "dc46c1e6",
   "metadata": {},
   "outputs": [],
   "source": [
    "#Huomataan, että paras ROI on niin, että koko budjetti käytettäisiin radiomarkkinointiin."
   ]
  }
 ],
 "metadata": {
  "kernelspec": {
   "display_name": "Python 3 (ipykernel)",
   "language": "python",
   "name": "python3"
  },
  "language_info": {
   "codemirror_mode": {
    "name": "ipython",
    "version": 3
   },
   "file_extension": ".py",
   "mimetype": "text/x-python",
   "name": "python",
   "nbconvert_exporter": "python",
   "pygments_lexer": "ipython3",
   "version": "3.11.7"
  }
 },
 "nbformat": 4,
 "nbformat_minor": 5
}
